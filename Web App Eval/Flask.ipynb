{
  "nbformat": 4,
  "nbformat_minor": 0,
  "metadata": {
    "colab": {
      "provenance": []
    },
    "kernelspec": {
      "name": "python3",
      "display_name": "Python 3"
    }
  },
  "cells": [
    {
      "cell_type": "code",
      "metadata": {
        "id": "Uu_X80I--g-o",
        "outputId": "fe2cddc5-a792-4434-a50a-d732cd7fe04c",
        "colab": {
          "base_uri": "https://localhost:8080/",
          "height": 122
        }
      },
      "source": [
        "from google.colab import drive\n",
        "drive.mount('/content/drive')"
      ],
      "execution_count": null,
      "outputs": [
        {
          "output_type": "stream",
          "text": [
            "Go to this URL in a browser: https://accounts.google.com/o/oauth2/auth?client_id=947318989803-6bn6qk8qdgf4n4g3pfee6491hc0brc4i.apps.googleusercontent.com&redirect_uri=urn%3aietf%3awg%3aoauth%3a2.0%3aoob&response_type=code&scope=email%20https%3a%2f%2fwww.googleapis.com%2fauth%2fdocs.test%20https%3a%2f%2fwww.googleapis.com%2fauth%2fdrive%20https%3a%2f%2fwww.googleapis.com%2fauth%2fdrive.photos.readonly%20https%3a%2f%2fwww.googleapis.com%2fauth%2fpeopleapi.readonly\n",
            "\n",
            "Enter your authorization code:\n",
            "··········\n",
            "Mounted at /content/drive\n"
          ],
          "name": "stdout"
        }
      ]
    },
    {
      "cell_type": "code",
      "metadata": {
        "id": "g5QdytwAuYI_",
        "outputId": "d9aa6943-d1c3-4560-dd46-4095c964439a",
        "colab": {
          "base_uri": "https://localhost:8080/",
          "height": 1000
        }
      },
      "source": [
        "!pip install flask-ngrok\n",
        "!pip install tensorlayer"
      ],
      "execution_count": null,
      "outputs": [
        {
          "output_type": "stream",
          "text": [
            "Collecting flask-ngrok\n",
            "  Downloading https://files.pythonhosted.org/packages/af/6c/f54cb686ad1129e27d125d182f90f52b32f284e6c8df58c1bae54fa1adbc/flask_ngrok-0.0.25-py3-none-any.whl\n",
            "Requirement already satisfied: Flask>=0.8 in /usr/local/lib/python3.6/dist-packages (from flask-ngrok) (1.1.2)\n",
            "Requirement already satisfied: requests in /usr/local/lib/python3.6/dist-packages (from flask-ngrok) (2.23.0)\n",
            "Requirement already satisfied: Jinja2>=2.10.1 in /usr/local/lib/python3.6/dist-packages (from Flask>=0.8->flask-ngrok) (2.11.2)\n",
            "Requirement already satisfied: itsdangerous>=0.24 in /usr/local/lib/python3.6/dist-packages (from Flask>=0.8->flask-ngrok) (1.1.0)\n",
            "Requirement already satisfied: Werkzeug>=0.15 in /usr/local/lib/python3.6/dist-packages (from Flask>=0.8->flask-ngrok) (1.0.1)\n",
            "Requirement already satisfied: click>=5.1 in /usr/local/lib/python3.6/dist-packages (from Flask>=0.8->flask-ngrok) (7.1.2)\n",
            "Requirement already satisfied: certifi>=2017.4.17 in /usr/local/lib/python3.6/dist-packages (from requests->flask-ngrok) (2020.4.5.1)\n",
            "Requirement already satisfied: urllib3!=1.25.0,!=1.25.1,<1.26,>=1.21.1 in /usr/local/lib/python3.6/dist-packages (from requests->flask-ngrok) (1.24.3)\n",
            "Requirement already satisfied: chardet<4,>=3.0.2 in /usr/local/lib/python3.6/dist-packages (from requests->flask-ngrok) (3.0.4)\n",
            "Requirement already satisfied: idna<3,>=2.5 in /usr/local/lib/python3.6/dist-packages (from requests->flask-ngrok) (2.9)\n",
            "Requirement already satisfied: MarkupSafe>=0.23 in /usr/local/lib/python3.6/dist-packages (from Jinja2>=2.10.1->Flask>=0.8->flask-ngrok) (1.1.1)\n",
            "Installing collected packages: flask-ngrok\n",
            "Successfully installed flask-ngrok-0.0.25\n",
            "Collecting tensorlayer\n",
            "\u001b[?25l  Downloading https://files.pythonhosted.org/packages/b5/38/649335834743e8ccc797dfc975d46af86558a37834a4fda8888544a0ee3a/tensorlayer-2.2.2-py2.py3-none-any.whl (363kB)\n",
            "\u001b[K     |████████████████████████████████| 368kB 3.5MB/s \n",
            "\u001b[?25hRequirement already satisfied: numpy>=1.16 in /usr/local/lib/python3.6/dist-packages (from tensorlayer) (1.18.4)\n",
            "Collecting imageio>=2.5.0\n",
            "\u001b[?25l  Downloading https://files.pythonhosted.org/packages/4c/2b/9dd19644f871b10f7e32eb2dbd6b45149c350b4d5f2893e091b882e03ab7/imageio-2.8.0-py3-none-any.whl (3.3MB)\n",
            "\u001b[K     |████████████████████████████████| 3.3MB 10.9MB/s \n",
            "\u001b[?25hRequirement already satisfied: h5py>=2.9 in /usr/local/lib/python3.6/dist-packages (from tensorlayer) (2.10.0)\n",
            "Requirement already satisfied: cloudpickle>=0.8.1 in /usr/local/lib/python3.6/dist-packages (from tensorlayer) (1.3.0)\n",
            "Requirement already satisfied: scipy>=1.2.1 in /usr/local/lib/python3.6/dist-packages (from tensorlayer) (1.4.1)\n",
            "Requirement already satisfied: requests>=2.21.0 in /usr/local/lib/python3.6/dist-packages (from tensorlayer) (2.23.0)\n",
            "Collecting progressbar2>=3.39.3\n",
            "\u001b[?25l  Downloading https://files.pythonhosted.org/packages/cc/37/b6ec42c1c8521c083f21d5f5118ca4ffc438d4ad9dd8367638674ea0febd/progressbar2-3.51.3-py2.py3-none-any.whl (51kB)\n",
            "\u001b[K     |████████████████████████████████| 61kB 7.3MB/s \n",
            "\u001b[?25hRequirement already satisfied: wrapt>=1.11.1 in /usr/local/lib/python3.6/dist-packages (from tensorlayer) (1.12.1)\n",
            "Requirement already satisfied: scikit-learn>=0.21.0 in /usr/local/lib/python3.6/dist-packages (from tensorlayer) (0.22.2.post1)\n",
            "Requirement already satisfied: scikit-image>=0.15.0 in /usr/local/lib/python3.6/dist-packages (from tensorlayer) (0.16.2)\n",
            "Requirement already satisfied: pillow in /usr/local/lib/python3.6/dist-packages (from imageio>=2.5.0->tensorlayer) (7.0.0)\n",
            "Requirement already satisfied: six in /usr/local/lib/python3.6/dist-packages (from h5py>=2.9->tensorlayer) (1.12.0)\n",
            "Requirement already satisfied: urllib3!=1.25.0,!=1.25.1,<1.26,>=1.21.1 in /usr/local/lib/python3.6/dist-packages (from requests>=2.21.0->tensorlayer) (1.24.3)\n",
            "Requirement already satisfied: chardet<4,>=3.0.2 in /usr/local/lib/python3.6/dist-packages (from requests>=2.21.0->tensorlayer) (3.0.4)\n",
            "Requirement already satisfied: idna<3,>=2.5 in /usr/local/lib/python3.6/dist-packages (from requests>=2.21.0->tensorlayer) (2.9)\n",
            "Requirement already satisfied: certifi>=2017.4.17 in /usr/local/lib/python3.6/dist-packages (from requests>=2.21.0->tensorlayer) (2020.4.5.1)\n",
            "Requirement already satisfied: python-utils>=2.3.0 in /usr/local/lib/python3.6/dist-packages (from progressbar2>=3.39.3->tensorlayer) (2.4.0)\n",
            "Requirement already satisfied: joblib>=0.11 in /usr/local/lib/python3.6/dist-packages (from scikit-learn>=0.21.0->tensorlayer) (0.15.1)\n",
            "Requirement already satisfied: networkx>=2.0 in /usr/local/lib/python3.6/dist-packages (from scikit-image>=0.15.0->tensorlayer) (2.4)\n",
            "Requirement already satisfied: matplotlib!=3.0.0,>=2.0.0 in /usr/local/lib/python3.6/dist-packages (from scikit-image>=0.15.0->tensorlayer) (3.2.1)\n",
            "Requirement already satisfied: PyWavelets>=0.4.0 in /usr/local/lib/python3.6/dist-packages (from scikit-image>=0.15.0->tensorlayer) (1.1.1)\n",
            "Requirement already satisfied: decorator>=4.3.0 in /usr/local/lib/python3.6/dist-packages (from networkx>=2.0->scikit-image>=0.15.0->tensorlayer) (4.4.2)\n",
            "Requirement already satisfied: kiwisolver>=1.0.1 in /usr/local/lib/python3.6/dist-packages (from matplotlib!=3.0.0,>=2.0.0->scikit-image>=0.15.0->tensorlayer) (1.2.0)\n",
            "Requirement already satisfied: pyparsing!=2.0.4,!=2.1.2,!=2.1.6,>=2.0.1 in /usr/local/lib/python3.6/dist-packages (from matplotlib!=3.0.0,>=2.0.0->scikit-image>=0.15.0->tensorlayer) (2.4.7)\n",
            "Requirement already satisfied: python-dateutil>=2.1 in /usr/local/lib/python3.6/dist-packages (from matplotlib!=3.0.0,>=2.0.0->scikit-image>=0.15.0->tensorlayer) (2.8.1)\n",
            "Requirement already satisfied: cycler>=0.10 in /usr/local/lib/python3.6/dist-packages (from matplotlib!=3.0.0,>=2.0.0->scikit-image>=0.15.0->tensorlayer) (0.10.0)\n",
            "\u001b[31mERROR: albumentations 0.1.12 has requirement imgaug<0.2.7,>=0.2.5, but you'll have imgaug 0.2.9 which is incompatible.\u001b[0m\n",
            "Installing collected packages: imageio, progressbar2, tensorlayer\n",
            "  Found existing installation: imageio 2.4.1\n",
            "    Uninstalling imageio-2.4.1:\n",
            "      Successfully uninstalled imageio-2.4.1\n",
            "  Found existing installation: progressbar2 3.38.0\n",
            "    Uninstalling progressbar2-3.38.0:\n",
            "      Successfully uninstalled progressbar2-3.38.0\n",
            "Successfully installed imageio-2.8.0 progressbar2-3.51.3 tensorlayer-2.2.2\n"
          ],
          "name": "stdout"
        }
      ]
    },
    {
      "cell_type": "code",
      "metadata": {
        "id": "T0huLorAIx3m"
      },
      "source": [
        "import tensorflow as tf\n",
        "import tensorlayer as tl\n",
        "from tensorlayer.layers import (Input, Conv2d, BatchNorm2d, Elementwise, SubpixelConv2d, Flatten, Dense)\n",
        "from tensorlayer.models import Model\n",
        "import os\n",
        "import numpy as np\n",
        "# from IPython.display import HTML\n",
        "from flask_ngrok import run_with_ngrok\n",
        "from flask import Flask,render_template, request, redirect\n",
        "import time\n",
        "from threading import Thread"
      ],
      "execution_count": null,
      "outputs": []
    },
    {
      "cell_type": "code",
      "metadata": {
        "id": "ZiO2m5xkFDsZ"
      },
      "source": [
        "def get_G(input_shape):\n",
        "    w_init = tf.random_normal_initializer(stddev=0.02)\n",
        "    g_init = tf.random_normal_initializer(1., 0.02)\n",
        "\n",
        "    nin = Input(input_shape)\n",
        "    n = Conv2d(64, (3, 3), (1, 1), act=tf.nn.relu, padding='SAME', W_init=w_init)(nin)\n",
        "    temp = n\n",
        "\n",
        "    # B residual blocks\n",
        "    for i in range(16):\n",
        "        nn = Conv2d(64, (3, 3), (1, 1), padding='SAME', W_init=w_init, b_init=None)(n)\n",
        "        nn = BatchNorm2d(act=tf.nn.relu, gamma_init=g_init)(nn)\n",
        "        nn = Conv2d(64, (3, 3), (1, 1), padding='SAME', W_init=w_init, b_init=None)(nn)\n",
        "        nn = BatchNorm2d(gamma_init=g_init)(nn)\n",
        "        nn = Elementwise(tf.add)([n, nn])\n",
        "        n = nn\n",
        "\n",
        "    n = Conv2d(64, (3, 3), (1, 1), padding='SAME', W_init=w_init, b_init=None)(n)\n",
        "    n = BatchNorm2d(gamma_init=g_init)(n)\n",
        "    n = Elementwise(tf.add)([n, temp])\n",
        "    # B residual blacks end\n",
        "\n",
        "    n = Conv2d(256, (3, 3), (1, 1), padding='SAME', W_init=w_init)(n)\n",
        "    n = SubpixelConv2d(scale=2, n_out_channels=None, act=tf.nn.relu)(n)\n",
        "\n",
        "    n = Conv2d(256, (3, 3), (1, 1), act=None, padding='SAME', W_init=w_init)(n)\n",
        "    n = SubpixelConv2d(scale=2, n_out_channels=None, act=tf.nn.relu)(n)\n",
        "\n",
        "    nn = Conv2d(3, (1, 1), (1, 1), act=tf.nn.tanh, padding='SAME', W_init=w_init)(n)\n",
        "    G = Model(inputs=nin, outputs=nn)\n",
        "    return G\n"
      ],
      "execution_count": null,
      "outputs": []
    },
    {
      "cell_type": "code",
      "metadata": {
        "id": "-SiwTsAlV1gR"
      },
      "source": [
        "lr_img_path = '/content/drive/My Drive/data/valid_LR'\n",
        "save_dir = \"/content/drive/My Drive/data/results\"\n",
        "checkpoint_dir = \"/content/drive/My Drive/data/models\"\n",
        "hr_img_path = '/content/drive/My Drive/data/valid_HR'\n",
        "imids = 0"
      ],
      "execution_count": null,
      "outputs": []
    },
    {
      "cell_type": "code",
      "metadata": {
        "id": "pyqHyXl9I0q7",
        "outputId": "cfc9ca53-b1e7-4d56-9244-81f874a45b49",
        "colab": {
          "base_uri": "https://localhost:8080/",
          "height": 1000
        }
      },
      "source": [
        "valid_hr_img_list = sorted(tl.files.load_file_list(path=hr_img_path, regx='.*.png', printable=False))\n",
        "valid_lr_img_list = sorted(tl.files.load_file_list(path=lr_img_path, regx='.*.png', printable=False))\n",
        "valid_lr_imgs = tl.vis.read_images(valid_lr_img_list, path=lr_img_path, n_threads=32)\n",
        "valid_hr_imgs = tl.vis.read_images(valid_hr_img_list, path=hr_img_path, n_threads=32)\n",
        "G1 = get_G([1, None, None, 3])\n",
        "G1.load_weights(os.path.join(checkpoint_dir, 'g.h5'))\n",
        "G1.eval()"
      ],
      "execution_count": null,
      "outputs": [
        {
          "output_type": "stream",
          "text": [
            "[TL] read 32 from /content/drive/My Drive/data/valid_LR\n",
            "[TL] read 64 from /content/drive/My Drive/data/valid_LR\n",
            "[TL] read 96 from /content/drive/My Drive/data/valid_LR\n",
            "[TL] read 100 from /content/drive/My Drive/data/valid_LR\n",
            "[TL] read 32 from /content/drive/My Drive/data/valid_HR\n",
            "[TL] read 64 from /content/drive/My Drive/data/valid_HR\n",
            "[TL] read 96 from /content/drive/My Drive/data/valid_HR\n",
            "[TL] read 100 from /content/drive/My Drive/data/valid_HR\n",
            "[TL] Input  _inputlayer_1: [1, None, None, 3]\n",
            "[TL] Conv2d conv2d_1: n_filter: 64 filter_size: (3, 3) strides: (1, 1) pad: SAME act: relu\n",
            "[TL] Conv2d conv2d_2: n_filter: 64 filter_size: (3, 3) strides: (1, 1) pad: SAME act: No Activation\n",
            "[TL] BatchNorm batchnorm2d_1: decay: 0.900000 epsilon: 0.000010 act: relu is_train: False\n",
            "[TL] Conv2d conv2d_3: n_filter: 64 filter_size: (3, 3) strides: (1, 1) pad: SAME act: No Activation\n",
            "[TL] BatchNorm batchnorm2d_2: decay: 0.900000 epsilon: 0.000010 act: No Activation is_train: False\n",
            "[TL] Elementwise elementwise_1: fn: add act: No Activation\n",
            "[TL] Conv2d conv2d_4: n_filter: 64 filter_size: (3, 3) strides: (1, 1) pad: SAME act: No Activation\n",
            "[TL] BatchNorm batchnorm2d_3: decay: 0.900000 epsilon: 0.000010 act: relu is_train: False\n",
            "[TL] Conv2d conv2d_5: n_filter: 64 filter_size: (3, 3) strides: (1, 1) pad: SAME act: No Activation\n",
            "[TL] BatchNorm batchnorm2d_4: decay: 0.900000 epsilon: 0.000010 act: No Activation is_train: False\n",
            "[TL] Elementwise elementwise_2: fn: add act: No Activation\n",
            "[TL] Conv2d conv2d_6: n_filter: 64 filter_size: (3, 3) strides: (1, 1) pad: SAME act: No Activation\n",
            "[TL] BatchNorm batchnorm2d_5: decay: 0.900000 epsilon: 0.000010 act: relu is_train: False\n",
            "[TL] Conv2d conv2d_7: n_filter: 64 filter_size: (3, 3) strides: (1, 1) pad: SAME act: No Activation\n",
            "[TL] BatchNorm batchnorm2d_6: decay: 0.900000 epsilon: 0.000010 act: No Activation is_train: False\n",
            "[TL] Elementwise elementwise_3: fn: add act: No Activation\n",
            "[TL] Conv2d conv2d_8: n_filter: 64 filter_size: (3, 3) strides: (1, 1) pad: SAME act: No Activation\n",
            "[TL] BatchNorm batchnorm2d_7: decay: 0.900000 epsilon: 0.000010 act: relu is_train: False\n",
            "[TL] Conv2d conv2d_9: n_filter: 64 filter_size: (3, 3) strides: (1, 1) pad: SAME act: No Activation\n",
            "[TL] BatchNorm batchnorm2d_8: decay: 0.900000 epsilon: 0.000010 act: No Activation is_train: False\n",
            "[TL] Elementwise elementwise_4: fn: add act: No Activation\n",
            "[TL] Conv2d conv2d_10: n_filter: 64 filter_size: (3, 3) strides: (1, 1) pad: SAME act: No Activation\n",
            "[TL] BatchNorm batchnorm2d_9: decay: 0.900000 epsilon: 0.000010 act: relu is_train: False\n",
            "[TL] Conv2d conv2d_11: n_filter: 64 filter_size: (3, 3) strides: (1, 1) pad: SAME act: No Activation\n",
            "[TL] BatchNorm batchnorm2d_10: decay: 0.900000 epsilon: 0.000010 act: No Activation is_train: False\n",
            "[TL] Elementwise elementwise_5: fn: add act: No Activation\n",
            "[TL] Conv2d conv2d_12: n_filter: 64 filter_size: (3, 3) strides: (1, 1) pad: SAME act: No Activation\n",
            "[TL] BatchNorm batchnorm2d_11: decay: 0.900000 epsilon: 0.000010 act: relu is_train: False\n",
            "[TL] Conv2d conv2d_13: n_filter: 64 filter_size: (3, 3) strides: (1, 1) pad: SAME act: No Activation\n",
            "[TL] BatchNorm batchnorm2d_12: decay: 0.900000 epsilon: 0.000010 act: No Activation is_train: False\n",
            "[TL] Elementwise elementwise_6: fn: add act: No Activation\n",
            "[TL] Conv2d conv2d_14: n_filter: 64 filter_size: (3, 3) strides: (1, 1) pad: SAME act: No Activation\n",
            "[TL] BatchNorm batchnorm2d_13: decay: 0.900000 epsilon: 0.000010 act: relu is_train: False\n",
            "[TL] Conv2d conv2d_15: n_filter: 64 filter_size: (3, 3) strides: (1, 1) pad: SAME act: No Activation\n",
            "[TL] BatchNorm batchnorm2d_14: decay: 0.900000 epsilon: 0.000010 act: No Activation is_train: False\n",
            "[TL] Elementwise elementwise_7: fn: add act: No Activation\n",
            "[TL] Conv2d conv2d_16: n_filter: 64 filter_size: (3, 3) strides: (1, 1) pad: SAME act: No Activation\n",
            "[TL] BatchNorm batchnorm2d_15: decay: 0.900000 epsilon: 0.000010 act: relu is_train: False\n",
            "[TL] Conv2d conv2d_17: n_filter: 64 filter_size: (3, 3) strides: (1, 1) pad: SAME act: No Activation\n",
            "[TL] BatchNorm batchnorm2d_16: decay: 0.900000 epsilon: 0.000010 act: No Activation is_train: False\n",
            "[TL] Elementwise elementwise_8: fn: add act: No Activation\n",
            "[TL] Conv2d conv2d_18: n_filter: 64 filter_size: (3, 3) strides: (1, 1) pad: SAME act: No Activation\n",
            "[TL] BatchNorm batchnorm2d_17: decay: 0.900000 epsilon: 0.000010 act: relu is_train: False\n",
            "[TL] Conv2d conv2d_19: n_filter: 64 filter_size: (3, 3) strides: (1, 1) pad: SAME act: No Activation\n",
            "[TL] BatchNorm batchnorm2d_18: decay: 0.900000 epsilon: 0.000010 act: No Activation is_train: False\n",
            "[TL] Elementwise elementwise_9: fn: add act: No Activation\n",
            "[TL] Conv2d conv2d_20: n_filter: 64 filter_size: (3, 3) strides: (1, 1) pad: SAME act: No Activation\n",
            "[TL] BatchNorm batchnorm2d_19: decay: 0.900000 epsilon: 0.000010 act: relu is_train: False\n",
            "[TL] Conv2d conv2d_21: n_filter: 64 filter_size: (3, 3) strides: (1, 1) pad: SAME act: No Activation\n",
            "[TL] BatchNorm batchnorm2d_20: decay: 0.900000 epsilon: 0.000010 act: No Activation is_train: False\n",
            "[TL] Elementwise elementwise_10: fn: add act: No Activation\n",
            "[TL] Conv2d conv2d_22: n_filter: 64 filter_size: (3, 3) strides: (1, 1) pad: SAME act: No Activation\n",
            "[TL] BatchNorm batchnorm2d_21: decay: 0.900000 epsilon: 0.000010 act: relu is_train: False\n",
            "[TL] Conv2d conv2d_23: n_filter: 64 filter_size: (3, 3) strides: (1, 1) pad: SAME act: No Activation\n",
            "[TL] BatchNorm batchnorm2d_22: decay: 0.900000 epsilon: 0.000010 act: No Activation is_train: False\n",
            "[TL] Elementwise elementwise_11: fn: add act: No Activation\n",
            "[TL] Conv2d conv2d_24: n_filter: 64 filter_size: (3, 3) strides: (1, 1) pad: SAME act: No Activation\n",
            "[TL] BatchNorm batchnorm2d_23: decay: 0.900000 epsilon: 0.000010 act: relu is_train: False\n",
            "[TL] Conv2d conv2d_25: n_filter: 64 filter_size: (3, 3) strides: (1, 1) pad: SAME act: No Activation\n",
            "[TL] BatchNorm batchnorm2d_24: decay: 0.900000 epsilon: 0.000010 act: No Activation is_train: False\n",
            "[TL] Elementwise elementwise_12: fn: add act: No Activation\n",
            "[TL] Conv2d conv2d_26: n_filter: 64 filter_size: (3, 3) strides: (1, 1) pad: SAME act: No Activation\n",
            "[TL] BatchNorm batchnorm2d_25: decay: 0.900000 epsilon: 0.000010 act: relu is_train: False\n",
            "[TL] Conv2d conv2d_27: n_filter: 64 filter_size: (3, 3) strides: (1, 1) pad: SAME act: No Activation\n",
            "[TL] BatchNorm batchnorm2d_26: decay: 0.900000 epsilon: 0.000010 act: No Activation is_train: False\n",
            "[TL] Elementwise elementwise_13: fn: add act: No Activation\n",
            "[TL] Conv2d conv2d_28: n_filter: 64 filter_size: (3, 3) strides: (1, 1) pad: SAME act: No Activation\n",
            "[TL] BatchNorm batchnorm2d_27: decay: 0.900000 epsilon: 0.000010 act: relu is_train: False\n",
            "[TL] Conv2d conv2d_29: n_filter: 64 filter_size: (3, 3) strides: (1, 1) pad: SAME act: No Activation\n",
            "[TL] BatchNorm batchnorm2d_28: decay: 0.900000 epsilon: 0.000010 act: No Activation is_train: False\n",
            "[TL] Elementwise elementwise_14: fn: add act: No Activation\n",
            "[TL] Conv2d conv2d_30: n_filter: 64 filter_size: (3, 3) strides: (1, 1) pad: SAME act: No Activation\n",
            "[TL] BatchNorm batchnorm2d_29: decay: 0.900000 epsilon: 0.000010 act: relu is_train: False\n",
            "[TL] Conv2d conv2d_31: n_filter: 64 filter_size: (3, 3) strides: (1, 1) pad: SAME act: No Activation\n",
            "[TL] BatchNorm batchnorm2d_30: decay: 0.900000 epsilon: 0.000010 act: No Activation is_train: False\n",
            "[TL] Elementwise elementwise_15: fn: add act: No Activation\n",
            "[TL] Conv2d conv2d_32: n_filter: 64 filter_size: (3, 3) strides: (1, 1) pad: SAME act: No Activation\n",
            "[TL] BatchNorm batchnorm2d_31: decay: 0.900000 epsilon: 0.000010 act: relu is_train: False\n",
            "[TL] Conv2d conv2d_33: n_filter: 64 filter_size: (3, 3) strides: (1, 1) pad: SAME act: No Activation\n",
            "[TL] BatchNorm batchnorm2d_32: decay: 0.900000 epsilon: 0.000010 act: No Activation is_train: False\n",
            "[TL] Elementwise elementwise_16: fn: add act: No Activation\n",
            "[TL] Conv2d conv2d_34: n_filter: 64 filter_size: (3, 3) strides: (1, 1) pad: SAME act: No Activation\n",
            "[TL] BatchNorm batchnorm2d_33: decay: 0.900000 epsilon: 0.000010 act: No Activation is_train: False\n",
            "[TL] Elementwise elementwise_17: fn: add act: No Activation\n",
            "[TL] Conv2d conv2d_35: n_filter: 256 filter_size: (3, 3) strides: (1, 1) pad: SAME act: No Activation\n",
            "[TL] SubpixelConv2d  subpixelconv2d_1: scale: 2 act: relu\n",
            "[TL] Conv2d conv2d_36: n_filter: 256 filter_size: (3, 3) strides: (1, 1) pad: SAME act: No Activation\n",
            "[TL] SubpixelConv2d  subpixelconv2d_2: scale: 2 act: relu\n",
            "[TL] Conv2d conv2d_37: n_filter: 3 filter_size: (1, 1) strides: (1, 1) pad: SAME act: tanh\n",
            "[TL] [*] Load /content/drive/My Drive/data/models/g.h5 SUCCESS!\n"
          ],
          "name": "stdout"
        }
      ]
    },
    {
      "cell_type": "code",
      "metadata": {
        "id": "TIv4ZxUqV8eH"
      },
      "source": [
        "def evaluate():\n",
        "    global imids,G1\n",
        "    imid = imids[1:]\n",
        "    imid = int(imid) - 1\n",
        "    valid_lr_img = valid_lr_imgs[imid]\n",
        "    valid_hr_img = valid_hr_imgs[imid]\n",
        "\n",
        "    valid_lr_img = (valid_lr_img / 127.5) - 1\n",
        "\n",
        "    valid_lr_img = np.asarray(valid_lr_img, dtype=np.float32)\n",
        "    valid_lr_img = valid_lr_img[np.newaxis,:,:,:]\n",
        "    size = [valid_lr_img.shape[1], valid_lr_img.shape[2]]\n",
        "\n",
        "    out = G1(valid_lr_img).numpy()\n",
        "\n",
        "    print(\"LR size: %s /  generated HR size: %s\" % (size, out.shape))\n",
        "    print(\"[*] save images\")\n",
        "    tl.vis.save_image(out[0], os.path.join(save_dir, 'valid_gen.png'))\n",
        "    tl.vis.save_image(valid_lr_img[0], os.path.join(save_dir, 'valid_lr.png'))\n",
        "    tl.vis.save_image(valid_hr_img, os.path.join(save_dir, 'valid_hr.png'))"
      ],
      "execution_count": null,
      "outputs": []
    },
    {
      "cell_type": "code",
      "metadata": {
        "id": "ekoG7BLAuZXY",
        "outputId": "a7beda59-4cd0-436a-8805-a5ee0978898e",
        "colab": {
          "base_uri": "https://localhost:8080/",
          "height": 187
        }
      },
      "source": [
        "from flask import redirect, url_for\n",
        "app = Flask(__name__)\n",
        "run_with_ngrok(app)   #starts ngrok when the app is run\n",
        "@app.route(\"/\")\n",
        "def home():\n",
        "    # return render_template(\"test.html\")\n",
        "     return \"\"\"\n",
        "     <style>\n",
        "     .loader {\n",
        "      border: 16px solid #f3f3f3;\n",
        "      border-radius: 50%;\n",
        "      border-top: 16px solid blue;\n",
        "      border-right: 16px solid green;\n",
        "      border-bottom: 16px solid red;\n",
        "      border-left: 16px solid yellow;\n",
        "      width: 120px;\n",
        "      height: 120px;\n",
        "      -webkit-animation: spin 2s linear infinite;\n",
        "      animation: spin 2s linear infinite;\n",
        "     }\n",
        "\n",
        "     @-webkit-keyframes spin {\n",
        "      0% { -webkit-transform: rotate(0deg); }\n",
        "      100% { -webkit-transform: rotate(360deg); }\n",
        "     }\n",
        "\n",
        "     @keyframes spin {\n",
        "      0% { transform: rotate(0deg); }\n",
        "      100% { transform: rotate(360deg); }\n",
        "     }\n",
        "     </style>\n",
        "\n",
        "     <center><h1>Welcome to Super-Resolution GAN App</h1>\n",
        "     </center><center><h3>Please click on any image to generate its super-resolution</h3></center>\n",
        "     <iframe sandbox=\"allow-scripts\" src=\"https://drive.google.com/embeddedfolderview?id=1pnVqN61GQ_V2nvQzrquin9dcWF8d7vJ6#grid\" style=\"width:100%; height:450px; border:0;\"></iframe>\n",
        "     <br>\n",
        "     <br>\n",
        "     <center>\n",
        "     <form method=\"POST\">\n",
        "     <input type =\"text\" name =\"text\">\n",
        "     <input type=\"submit\">\n",
        "     </form>\n",
        "     \"\"\"\n",
        "\n",
        "\n",
        "\n",
        "@app.route('/', methods=['POST'])\n",
        "# def disp():\n",
        "  # return \"<h1>Processing</h1>\",redirect('/output')\n",
        "\n",
        "# @app.route('/output')\n",
        "def my_form_post():\n",
        "    # thr = Thread(target=disp)\n",
        "    # thr.start()\n",
        "    text = request.form['text']\n",
        "    processed_text = text.upper()\n",
        "    global imids\n",
        "    imids = processed_text\n",
        "    evaluate()\n",
        "    time.sleep(10)\n",
        "    # return \"\"\"<iframe src=\"https://drive.google.com/embeddedfolderview?id=12vf69Wgjw8P9ja7dEZWIwhkHV-5uTgHS#grid\" style=\"width:100%; height:450px; border:0;\"></iframe>\"\"\"\n",
        "    return \"\"\"\n",
        "    <center>\n",
        "    <img src=\"https://drive.google.com/uc?id=1CTuAYXV3fmwyYpLMjvEkj6N7MqMdJFvz\" alt=\"Generated image\" style=\"max-width: 100%;max-height: 97%;\">\n",
        "    <br>\n",
        "    <h3>Generated Image</h3>\n",
        "    <br><br>\n",
        "    <img src=\"https://drive.google.com/uc?id=1EFP-dkUCJf_dFp0rkoUKzaKWswRJi5Qh\" alt=\"Low-Resolution image\">\n",
        "    <br>\n",
        "    <h3>Low Resolution Image(Ground Truth)</h3>\n",
        "    <br><br>\n",
        "    <img src=\"https://drive.google.com/uc?id=1qtx0kuBIwL-1Dcw92K852g5nh5gd-X3d\" alt=\"High-Resolution image\" style=\"max-width: 100%;max-height: 97%;\">\n",
        "    <br>\n",
        "    <h3>High Resolution Image(Ground Truth)</h3>\n",
        "    <br><br>\n",
        "    </center>\n",
        "    \"\"\"\n",
        "\n",
        "\n",
        "\n",
        "app.run()"
      ],
      "execution_count": null,
      "outputs": [
        {
          "output_type": "stream",
          "text": [
            " * Serving Flask app \"__main__\" (lazy loading)\n",
            " * Environment: production\n",
            "\u001b[31m   WARNING: This is a development server. Do not use it in a production deployment.\u001b[0m\n",
            "\u001b[2m   Use a production WSGI server instead.\u001b[0m\n",
            " * Debug mode: off\n"
          ],
          "name": "stdout"
        },
        {
          "output_type": "stream",
          "text": [
            " * Running on http://127.0.0.1:5000/ (Press CTRL+C to quit)\n"
          ],
          "name": "stderr"
        },
        {
          "output_type": "stream",
          "text": [
            " * Running on http://0f0763c5aa91.ngrok.io\n",
            " * Traffic stats available on http://127.0.0.1:4040\n"
          ],
          "name": "stdout"
        },
        {
          "output_type": "stream",
          "text": [
            "127.0.0.1 - - [05/Jun/2020 09:06:01] \"\u001b[37mGET / HTTP/1.1\u001b[0m\" 200 -\n",
            "127.0.0.1 - - [05/Jun/2020 09:06:08] \"\u001b[33mGET /favicon.ico HTTP/1.1\u001b[0m\" 404 -\n"
          ],
          "name": "stderr"
        }
      ]
    },
    {
      "cell_type": "code",
      "metadata": {
        "id": "7jZxF_-f0Hiq"
      },
      "source": [],
      "execution_count": null,
      "outputs": []
    }
  ]
}