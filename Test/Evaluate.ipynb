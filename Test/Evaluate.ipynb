{
  "nbformat": 4,
  "nbformat_minor": 0,
  "metadata": {
    "colab": {
      "provenance": []
    },
    "kernelspec": {
      "name": "python3",
      "display_name": "Python 3"
    }
  },
  "cells": [
    {
      "cell_type": "code",
      "metadata": {
        "id": "aopKAZ2InWTL",
        "outputId": "8bdcfb71-f933-4ea4-9ebc-ba170b05bbce",
        "colab": {
          "base_uri": "https://localhost:8080/",
          "height": 35
        }
      },
      "source": [
        "from google.colab import drive\n",
        "drive.mount('/content/drive')"
      ],
      "execution_count": null,
      "outputs": [
        {
          "output_type": "stream",
          "text": [
            "Drive already mounted at /content/drive; to attempt to forcibly remount, call drive.mount(\"/content/drive\", force_remount=True).\n"
          ],
          "name": "stdout"
        }
      ]
    },
    {
      "cell_type": "code",
      "metadata": {
        "id": "fBi34UlqlcCF",
        "outputId": "b11c33a8-fe6e-4306-cc99-9bd53a54dd03",
        "colab": {
          "base_uri": "https://localhost:8080/",
          "height": 528
        }
      },
      "source": [
        "!pip install tensorlayer"
      ],
      "execution_count": null,
      "outputs": [
        {
          "output_type": "stream",
          "text": [
            "Requirement already satisfied: tensorlayer in /usr/local/lib/python3.6/dist-packages (2.2.2)\n",
            "Requirement already satisfied: numpy>=1.16 in /usr/local/lib/python3.6/dist-packages (from tensorlayer) (1.18.3)\n",
            "Requirement already satisfied: progressbar2>=3.39.3 in /usr/local/lib/python3.6/dist-packages (from tensorlayer) (3.51.3)\n",
            "Requirement already satisfied: scipy>=1.2.1 in /usr/local/lib/python3.6/dist-packages (from tensorlayer) (1.4.1)\n",
            "Requirement already satisfied: requests>=2.21.0 in /usr/local/lib/python3.6/dist-packages (from tensorlayer) (2.23.0)\n",
            "Requirement already satisfied: cloudpickle>=0.8.1 in /usr/local/lib/python3.6/dist-packages (from tensorlayer) (1.3.0)\n",
            "Requirement already satisfied: scikit-learn>=0.21.0 in /usr/local/lib/python3.6/dist-packages (from tensorlayer) (0.22.2.post1)\n",
            "Requirement already satisfied: imageio>=2.5.0 in /usr/local/lib/python3.6/dist-packages (from tensorlayer) (2.8.0)\n",
            "Requirement already satisfied: h5py>=2.9 in /usr/local/lib/python3.6/dist-packages (from tensorlayer) (2.10.0)\n",
            "Requirement already satisfied: scikit-image>=0.15.0 in /usr/local/lib/python3.6/dist-packages (from tensorlayer) (0.16.2)\n",
            "Requirement already satisfied: wrapt>=1.11.1 in /usr/local/lib/python3.6/dist-packages (from tensorlayer) (1.12.1)\n",
            "Requirement already satisfied: six in /usr/local/lib/python3.6/dist-packages (from progressbar2>=3.39.3->tensorlayer) (1.12.0)\n",
            "Requirement already satisfied: python-utils>=2.3.0 in /usr/local/lib/python3.6/dist-packages (from progressbar2>=3.39.3->tensorlayer) (2.4.0)\n",
            "Requirement already satisfied: urllib3!=1.25.0,!=1.25.1,<1.26,>=1.21.1 in /usr/local/lib/python3.6/dist-packages (from requests>=2.21.0->tensorlayer) (1.24.3)\n",
            "Requirement already satisfied: certifi>=2017.4.17 in /usr/local/lib/python3.6/dist-packages (from requests>=2.21.0->tensorlayer) (2020.4.5.1)\n",
            "Requirement already satisfied: idna<3,>=2.5 in /usr/local/lib/python3.6/dist-packages (from requests>=2.21.0->tensorlayer) (2.9)\n",
            "Requirement already satisfied: chardet<4,>=3.0.2 in /usr/local/lib/python3.6/dist-packages (from requests>=2.21.0->tensorlayer) (3.0.4)\n",
            "Requirement already satisfied: joblib>=0.11 in /usr/local/lib/python3.6/dist-packages (from scikit-learn>=0.21.0->tensorlayer) (0.14.1)\n",
            "Requirement already satisfied: pillow in /usr/local/lib/python3.6/dist-packages (from imageio>=2.5.0->tensorlayer) (7.0.0)\n",
            "Requirement already satisfied: PyWavelets>=0.4.0 in /usr/local/lib/python3.6/dist-packages (from scikit-image>=0.15.0->tensorlayer) (1.1.1)\n",
            "Requirement already satisfied: matplotlib!=3.0.0,>=2.0.0 in /usr/local/lib/python3.6/dist-packages (from scikit-image>=0.15.0->tensorlayer) (3.2.1)\n",
            "Requirement already satisfied: networkx>=2.0 in /usr/local/lib/python3.6/dist-packages (from scikit-image>=0.15.0->tensorlayer) (2.4)\n",
            "Requirement already satisfied: kiwisolver>=1.0.1 in /usr/local/lib/python3.6/dist-packages (from matplotlib!=3.0.0,>=2.0.0->scikit-image>=0.15.0->tensorlayer) (1.2.0)\n",
            "Requirement already satisfied: pyparsing!=2.0.4,!=2.1.2,!=2.1.6,>=2.0.1 in /usr/local/lib/python3.6/dist-packages (from matplotlib!=3.0.0,>=2.0.0->scikit-image>=0.15.0->tensorlayer) (2.4.7)\n",
            "Requirement already satisfied: cycler>=0.10 in /usr/local/lib/python3.6/dist-packages (from matplotlib!=3.0.0,>=2.0.0->scikit-image>=0.15.0->tensorlayer) (0.10.0)\n",
            "Requirement already satisfied: python-dateutil>=2.1 in /usr/local/lib/python3.6/dist-packages (from matplotlib!=3.0.0,>=2.0.0->scikit-image>=0.15.0->tensorlayer) (2.8.1)\n",
            "Requirement already satisfied: decorator>=4.3.0 in /usr/local/lib/python3.6/dist-packages (from networkx>=2.0->scikit-image>=0.15.0->tensorlayer) (4.4.2)\n"
          ],
          "name": "stdout"
        }
      ]
    },
    {
      "cell_type": "code",
      "metadata": {
        "id": "yfdkVCe1kozL"
      },
      "source": [
        "import tensorflow as tf\n",
        "import tensorlayer as tl\n",
        "from tensorlayer.layers import (Input, Conv2d, BatchNorm2d, Elementwise, SubpixelConv2d, Flatten, Dense)\n",
        "from tensorlayer.models import Model\n",
        "\n",
        "def get_G(input_shape):\n",
        "    w_init = tf.random_normal_initializer(stddev=0.02)\n",
        "    g_init = tf.random_normal_initializer(1., 0.02)\n",
        "\n",
        "    nin = Input(input_shape)\n",
        "    n = Conv2d(64, (3, 3), (1, 1), act=tf.nn.relu, padding='SAME', W_init=w_init)(nin)\n",
        "    temp = n\n",
        "\n",
        "    # B residual blocks\n",
        "    for i in range(16):\n",
        "        nn = Conv2d(64, (3, 3), (1, 1), padding='SAME', W_init=w_init, b_init=None)(n)\n",
        "        nn = BatchNorm2d(act=tf.nn.relu, gamma_init=g_init)(nn)\n",
        "        nn = Conv2d(64, (3, 3), (1, 1), padding='SAME', W_init=w_init, b_init=None)(nn)\n",
        "        nn = BatchNorm2d(gamma_init=g_init)(nn)\n",
        "        nn = Elementwise(tf.add)([n, nn])\n",
        "        n = nn\n",
        "\n",
        "    n = Conv2d(64, (3, 3), (1, 1), padding='SAME', W_init=w_init, b_init=None)(n)\n",
        "    n = BatchNorm2d(gamma_init=g_init)(n)\n",
        "    n = Elementwise(tf.add)([n, temp])\n",
        "    # B residual blacks end\n",
        "\n",
        "    n = Conv2d(256, (3, 3), (1, 1), padding='SAME', W_init=w_init)(n)\n",
        "    n = SubpixelConv2d(scale=2, n_out_channels=None, act=tf.nn.relu)(n)\n",
        "\n",
        "    n = Conv2d(256, (3, 3), (1, 1), act=None, padding='SAME', W_init=w_init)(n)\n",
        "    n = SubpixelConv2d(scale=2, n_out_channels=None, act=tf.nn.relu)(n)\n",
        "\n",
        "    nn = Conv2d(3, (1, 1), (1, 1), act=tf.nn.tanh, padding='SAME', W_init=w_init)(n)\n",
        "    G = Model(inputs=nin, outputs=nn)\n",
        "    return G\n"
      ],
      "execution_count": null,
      "outputs": []
    },
    {
      "cell_type": "code",
      "metadata": {
        "id": "nIH6ZMSvmmWC"
      },
      "source": [
        "lr_img_path = '/content/drive/My Drive/data/valid_LR'\n",
        "save_dir = \"/content/drive/My Drive/data/samples\"\n",
        "checkpoint_dir = \"/content/drive/My Drive/data/models\"\n",
        "hr_img_path = '/content/drive/My Drive/data/valid_HR'"
      ],
      "execution_count": null,
      "outputs": []
    },
    {
      "cell_type": "code",
      "metadata": {
        "id": "X0kfahLYoSAl"
      },
      "source": [
        "def evaluate():\n",
        "    ###====================== PRE-LOAD DATA ===========================###\n",
        "    # train_hr_img_list = sorted(tl.files.load_file_list(path=config.TRAIN.hr_img_path, regx='.*.png', printable=False))\n",
        "    # train_lr_img_list = sorted(tl.files.load_file_list(path=config.TRAIN.lr_img_path, regx='.*.png', printable=False))\n",
        "    valid_hr_img_list = sorted(tl.files.load_file_list(path=hr_img_path, regx='.*.png', printable=False))\n",
        "    valid_lr_img_list = sorted(tl.files.load_file_list(path=lr_img_path, regx='.*.png', printable=False))\n",
        "\n",
        "    ## if your machine have enough memory, please pre-load the whole train set.\n",
        "    # train_hr_imgs = tl.vis.read_images(train_hr_img_list, path=config.TRAIN.hr_img_path, n_threads=32)\n",
        "    # for im in train_hr_imgs:\n",
        "    #     print(im.shape)\n",
        "    valid_lr_imgs = tl.vis.read_images(valid_lr_img_list, path=lr_img_path, n_threads=32)\n",
        "    # for im in valid_lr_imgs:\n",
        "    #     print(im.shape)\n",
        "    valid_hr_imgs = tl.vis.read_images(valid_hr_img_list, path=hr_img_path, n_threads=32)\n",
        "    # for im in valid_hr_imgs:\n",
        "    #     print(im.shape)\n",
        "\n",
        "    ###========================== DEFINE MODEL ============================###\n",
        "    imid = 37# 0: 企鹅  81: 蝴蝶 53: 鸟  64: 古堡\n",
        "    valid_lr_img = valid_lr_imgs[imid]\n",
        "    valid_hr_img = valid_hr_imgs[imid]\n",
        "    # valid_lr_img = get_imgs_fn('test.png', 'data2017/')  # if you want to test your own image\n",
        "    valid_lr_img = (valid_lr_img / 127.5) - 1  # rescale to ［－1, 1]\n",
        "    # print(valid_lr_img.min(), valid_lr_img.max())\n",
        "\n",
        "    G1 = get_G([1, None, None, 3])\n",
        "    G1.load_weights(os.path.join(checkpoint_dir, 'g.h5'))\n",
        "    G1.eval()\n",
        "\n",
        "    valid_lr_img = np.asarray(valid_lr_img, dtype=np.float32)\n",
        "    valid_lr_img = valid_lr_img[np.newaxis,:,:,:]\n",
        "    size = [valid_lr_img.shape[1], valid_lr_img.shape[2]]\n",
        "\n",
        "    out = G1(valid_lr_img).numpy()\n",
        "\n",
        "    print(\"LR size: %s /  generated HR size: %s\" % (size, out.shape))  # LR size: (339, 510, 3) /  gen HR size: (1, 1356, 2040, 3)\n",
        "    print(\"[*] save images\")\n",
        "    tl.vis.save_image(out[0], os.path.join(save_dir, 'valid_gen2.png'))\n",
        "    tl.vis.save_image(valid_lr_img[0], os.path.join(save_dir, 'valid_lr2.png'))\n",
        "    tl.vis.save_image(valid_hr_img, os.path.join(save_dir, 'valid_hr2.png'))\n",
        "\n",
        "    #out_bicu = scipy.misc.imresize(valid_lr_img[0], [size[0] * 4, size[1] * 4], interp='bicubic', mode=None)\n",
        "    #tl.vis.save_image(out_bicu, os.path.join(save_dir, 'valid_bicubic.png'))"
      ],
      "execution_count": null,
      "outputs": []
    },
    {
      "cell_type": "code",
      "metadata": {
        "id": "s5tKghSgoTIW",
        "outputId": "474d0f21-1361-4908-a356-664efb114382",
        "colab": {
          "base_uri": "https://localhost:8080/",
          "height": 1000
        }
      },
      "source": [
        "evaluate()"
      ],
      "execution_count": null,
      "outputs": [
        {
          "output_type": "stream",
          "text": [
            "[TL] read 32 from /content/drive/My Drive/data/valid_LR\n",
            "[TL] read 64 from /content/drive/My Drive/data/valid_LR\n",
            "[TL] read 96 from /content/drive/My Drive/data/valid_LR\n",
            "[TL] read 100 from /content/drive/My Drive/data/valid_LR\n",
            "[TL] read 32 from /content/drive/My Drive/data/valid_HR\n",
            "[TL] read 64 from /content/drive/My Drive/data/valid_HR\n",
            "[TL] read 96 from /content/drive/My Drive/data/valid_HR\n",
            "[TL] read 100 from /content/drive/My Drive/data/valid_HR\n",
            "[TL] Input  _inputlayer_4: [1, None, None, 3]\n",
            "[TL] Conv2d conv2d_112: n_filter: 64 filter_size: (3, 3) strides: (1, 1) pad: SAME act: relu\n",
            "[TL] Conv2d conv2d_113: n_filter: 64 filter_size: (3, 3) strides: (1, 1) pad: SAME act: No Activation\n",
            "[TL] BatchNorm batchnorm2d_100: decay: 0.900000 epsilon: 0.000010 act: relu is_train: False\n",
            "[TL] Conv2d conv2d_114: n_filter: 64 filter_size: (3, 3) strides: (1, 1) pad: SAME act: No Activation\n",
            "[TL] BatchNorm batchnorm2d_101: decay: 0.900000 epsilon: 0.000010 act: No Activation is_train: False\n",
            "[TL] Elementwise elementwise_52: fn: add act: No Activation\n",
            "[TL] Conv2d conv2d_115: n_filter: 64 filter_size: (3, 3) strides: (1, 1) pad: SAME act: No Activation\n",
            "[TL] BatchNorm batchnorm2d_102: decay: 0.900000 epsilon: 0.000010 act: relu is_train: False\n",
            "[TL] Conv2d conv2d_116: n_filter: 64 filter_size: (3, 3) strides: (1, 1) pad: SAME act: No Activation\n",
            "[TL] BatchNorm batchnorm2d_103: decay: 0.900000 epsilon: 0.000010 act: No Activation is_train: False\n",
            "[TL] Elementwise elementwise_53: fn: add act: No Activation\n",
            "[TL] Conv2d conv2d_117: n_filter: 64 filter_size: (3, 3) strides: (1, 1) pad: SAME act: No Activation\n",
            "[TL] BatchNorm batchnorm2d_104: decay: 0.900000 epsilon: 0.000010 act: relu is_train: False\n",
            "[TL] Conv2d conv2d_118: n_filter: 64 filter_size: (3, 3) strides: (1, 1) pad: SAME act: No Activation\n",
            "[TL] BatchNorm batchnorm2d_105: decay: 0.900000 epsilon: 0.000010 act: No Activation is_train: False\n",
            "[TL] Elementwise elementwise_54: fn: add act: No Activation\n",
            "[TL] Conv2d conv2d_119: n_filter: 64 filter_size: (3, 3) strides: (1, 1) pad: SAME act: No Activation\n",
            "[TL] BatchNorm batchnorm2d_106: decay: 0.900000 epsilon: 0.000010 act: relu is_train: False\n",
            "[TL] Conv2d conv2d_120: n_filter: 64 filter_size: (3, 3) strides: (1, 1) pad: SAME act: No Activation\n",
            "[TL] BatchNorm batchnorm2d_107: decay: 0.900000 epsilon: 0.000010 act: No Activation is_train: False\n",
            "[TL] Elementwise elementwise_55: fn: add act: No Activation\n",
            "[TL] Conv2d conv2d_121: n_filter: 64 filter_size: (3, 3) strides: (1, 1) pad: SAME act: No Activation\n",
            "[TL] BatchNorm batchnorm2d_108: decay: 0.900000 epsilon: 0.000010 act: relu is_train: False\n",
            "[TL] Conv2d conv2d_122: n_filter: 64 filter_size: (3, 3) strides: (1, 1) pad: SAME act: No Activation\n",
            "[TL] BatchNorm batchnorm2d_109: decay: 0.900000 epsilon: 0.000010 act: No Activation is_train: False\n",
            "[TL] Elementwise elementwise_56: fn: add act: No Activation\n",
            "[TL] Conv2d conv2d_123: n_filter: 64 filter_size: (3, 3) strides: (1, 1) pad: SAME act: No Activation\n",
            "[TL] BatchNorm batchnorm2d_110: decay: 0.900000 epsilon: 0.000010 act: relu is_train: False\n",
            "[TL] Conv2d conv2d_124: n_filter: 64 filter_size: (3, 3) strides: (1, 1) pad: SAME act: No Activation\n",
            "[TL] BatchNorm batchnorm2d_111: decay: 0.900000 epsilon: 0.000010 act: No Activation is_train: False\n",
            "[TL] Elementwise elementwise_57: fn: add act: No Activation\n",
            "[TL] Conv2d conv2d_125: n_filter: 64 filter_size: (3, 3) strides: (1, 1) pad: SAME act: No Activation\n",
            "[TL] BatchNorm batchnorm2d_112: decay: 0.900000 epsilon: 0.000010 act: relu is_train: False\n",
            "[TL] Conv2d conv2d_126: n_filter: 64 filter_size: (3, 3) strides: (1, 1) pad: SAME act: No Activation\n",
            "[TL] BatchNorm batchnorm2d_113: decay: 0.900000 epsilon: 0.000010 act: No Activation is_train: False\n",
            "[TL] Elementwise elementwise_58: fn: add act: No Activation\n",
            "[TL] Conv2d conv2d_127: n_filter: 64 filter_size: (3, 3) strides: (1, 1) pad: SAME act: No Activation\n",
            "[TL] BatchNorm batchnorm2d_114: decay: 0.900000 epsilon: 0.000010 act: relu is_train: False\n",
            "[TL] Conv2d conv2d_128: n_filter: 64 filter_size: (3, 3) strides: (1, 1) pad: SAME act: No Activation\n",
            "[TL] BatchNorm batchnorm2d_115: decay: 0.900000 epsilon: 0.000010 act: No Activation is_train: False\n",
            "[TL] Elementwise elementwise_59: fn: add act: No Activation\n",
            "[TL] Conv2d conv2d_129: n_filter: 64 filter_size: (3, 3) strides: (1, 1) pad: SAME act: No Activation\n",
            "[TL] BatchNorm batchnorm2d_116: decay: 0.900000 epsilon: 0.000010 act: relu is_train: False\n",
            "[TL] Conv2d conv2d_130: n_filter: 64 filter_size: (3, 3) strides: (1, 1) pad: SAME act: No Activation\n",
            "[TL] BatchNorm batchnorm2d_117: decay: 0.900000 epsilon: 0.000010 act: No Activation is_train: False\n",
            "[TL] Elementwise elementwise_60: fn: add act: No Activation\n",
            "[TL] Conv2d conv2d_131: n_filter: 64 filter_size: (3, 3) strides: (1, 1) pad: SAME act: No Activation\n",
            "[TL] BatchNorm batchnorm2d_118: decay: 0.900000 epsilon: 0.000010 act: relu is_train: False\n",
            "[TL] Conv2d conv2d_132: n_filter: 64 filter_size: (3, 3) strides: (1, 1) pad: SAME act: No Activation\n",
            "[TL] BatchNorm batchnorm2d_119: decay: 0.900000 epsilon: 0.000010 act: No Activation is_train: False\n",
            "[TL] Elementwise elementwise_61: fn: add act: No Activation\n",
            "[TL] Conv2d conv2d_133: n_filter: 64 filter_size: (3, 3) strides: (1, 1) pad: SAME act: No Activation\n",
            "[TL] BatchNorm batchnorm2d_120: decay: 0.900000 epsilon: 0.000010 act: relu is_train: False\n",
            "[TL] Conv2d conv2d_134: n_filter: 64 filter_size: (3, 3) strides: (1, 1) pad: SAME act: No Activation\n",
            "[TL] BatchNorm batchnorm2d_121: decay: 0.900000 epsilon: 0.000010 act: No Activation is_train: False\n",
            "[TL] Elementwise elementwise_62: fn: add act: No Activation\n",
            "[TL] Conv2d conv2d_135: n_filter: 64 filter_size: (3, 3) strides: (1, 1) pad: SAME act: No Activation\n",
            "[TL] BatchNorm batchnorm2d_122: decay: 0.900000 epsilon: 0.000010 act: relu is_train: False\n",
            "[TL] Conv2d conv2d_136: n_filter: 64 filter_size: (3, 3) strides: (1, 1) pad: SAME act: No Activation\n",
            "[TL] BatchNorm batchnorm2d_123: decay: 0.900000 epsilon: 0.000010 act: No Activation is_train: False\n",
            "[TL] Elementwise elementwise_63: fn: add act: No Activation\n",
            "[TL] Conv2d conv2d_137: n_filter: 64 filter_size: (3, 3) strides: (1, 1) pad: SAME act: No Activation\n",
            "[TL] BatchNorm batchnorm2d_124: decay: 0.900000 epsilon: 0.000010 act: relu is_train: False\n",
            "[TL] Conv2d conv2d_138: n_filter: 64 filter_size: (3, 3) strides: (1, 1) pad: SAME act: No Activation\n",
            "[TL] BatchNorm batchnorm2d_125: decay: 0.900000 epsilon: 0.000010 act: No Activation is_train: False\n",
            "[TL] Elementwise elementwise_64: fn: add act: No Activation\n",
            "[TL] Conv2d conv2d_139: n_filter: 64 filter_size: (3, 3) strides: (1, 1) pad: SAME act: No Activation\n",
            "[TL] BatchNorm batchnorm2d_126: decay: 0.900000 epsilon: 0.000010 act: relu is_train: False\n",
            "[TL] Conv2d conv2d_140: n_filter: 64 filter_size: (3, 3) strides: (1, 1) pad: SAME act: No Activation\n",
            "[TL] BatchNorm batchnorm2d_127: decay: 0.900000 epsilon: 0.000010 act: No Activation is_train: False\n",
            "[TL] Elementwise elementwise_65: fn: add act: No Activation\n",
            "[TL] Conv2d conv2d_141: n_filter: 64 filter_size: (3, 3) strides: (1, 1) pad: SAME act: No Activation\n",
            "[TL] BatchNorm batchnorm2d_128: decay: 0.900000 epsilon: 0.000010 act: relu is_train: False\n",
            "[TL] Conv2d conv2d_142: n_filter: 64 filter_size: (3, 3) strides: (1, 1) pad: SAME act: No Activation\n",
            "[TL] BatchNorm batchnorm2d_129: decay: 0.900000 epsilon: 0.000010 act: No Activation is_train: False\n",
            "[TL] Elementwise elementwise_66: fn: add act: No Activation\n",
            "[TL] Conv2d conv2d_143: n_filter: 64 filter_size: (3, 3) strides: (1, 1) pad: SAME act: No Activation\n",
            "[TL] BatchNorm batchnorm2d_130: decay: 0.900000 epsilon: 0.000010 act: relu is_train: False\n",
            "[TL] Conv2d conv2d_144: n_filter: 64 filter_size: (3, 3) strides: (1, 1) pad: SAME act: No Activation\n",
            "[TL] BatchNorm batchnorm2d_131: decay: 0.900000 epsilon: 0.000010 act: No Activation is_train: False\n",
            "[TL] Elementwise elementwise_67: fn: add act: No Activation\n",
            "[TL] Conv2d conv2d_145: n_filter: 64 filter_size: (3, 3) strides: (1, 1) pad: SAME act: No Activation\n",
            "[TL] BatchNorm batchnorm2d_132: decay: 0.900000 epsilon: 0.000010 act: No Activation is_train: False\n",
            "[TL] Elementwise elementwise_68: fn: add act: No Activation\n",
            "[TL] Conv2d conv2d_146: n_filter: 256 filter_size: (3, 3) strides: (1, 1) pad: SAME act: No Activation\n",
            "[TL] SubpixelConv2d  subpixelconv2d_7: scale: 2 act: relu\n",
            "[TL] Conv2d conv2d_147: n_filter: 256 filter_size: (3, 3) strides: (1, 1) pad: SAME act: No Activation\n",
            "[TL] SubpixelConv2d  subpixelconv2d_8: scale: 2 act: relu\n",
            "[TL] Conv2d conv2d_148: n_filter: 3 filter_size: (1, 1) strides: (1, 1) pad: SAME act: tanh\n",
            "[TL] [*] Load /content/drive/My Drive/data/models/g.h5 SUCCESS!\n"
          ],
          "name": "stdout"
        },
        {
          "output_type": "stream",
          "text": [
            "Lossy conversion from float32 to uint8. Range [-0.9940119385719299, 0.9155362248420715]. Convert image to uint8 prior to saving to suppress this warning.\n"
          ],
          "name": "stderr"
        },
        {
          "output_type": "stream",
          "text": [
            "LR size: [339, 510] /  generated HR size: (1, 1356, 2040, 3)\n",
            "[*] save images\n"
          ],
          "name": "stdout"
        },
        {
          "output_type": "stream",
          "text": [
            "Lossy conversion from float32 to uint8. Range [-1.0, 0.9215686321258545]. Convert image to uint8 prior to saving to suppress this warning.\n"
          ],
          "name": "stderr"
        }
      ]
    }
  ]
}